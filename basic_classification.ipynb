{
 "nbformat": 4,
 "nbformat_minor": 0,
 "metadata": {
  "colab": {
   "name": "basic_classification.ipynb",
   "version": "0.3.2",
   "provenance": [],
   "private_outputs": true,
   "collapsed_sections": [],
   "toc_visible": true
  },
  "kernelspec": {
   "name": "python3",
   "language": "python",
   "display_name": "Python 3"
  },
  "pycharm": {
   "stem_cell": {
    "cell_type": "raw",
    "source": [],
    "metadata": {
     "collapsed": false
    }
   }
  }
 },
 "cells": [
  {
   "metadata": {
    "id": "MhoQ0WE77laV",
    "colab_type": "text"
   },
   "cell_type": "markdown",
   "source": [
    "##### Copyright 2018 The TensorFlow Authors."
   ]
  },
  {
   "metadata": {
    "id": "_ckMIh7O7s6D",
    "colab_type": "code",
    "cellView": "form",
    "colab": {}
   },
   "cell_type": "code",
   "source": [
    "#@title Licensed under the Apache License, Version 2.0 (the \"License\");\n",
    "# you may not use this file except in compliance with the License.\n",
    "# You may obtain a copy of the License at\n",
    "#\n",
    "# https://www.apache.org/licenses/LICENSE-2.0\n",
    "#\n",
    "# Unless required by applicable law or agreed to in writing, software\n",
    "# distributed under the License is distributed on an \"AS IS\" BASIS,\n",
    "# WITHOUT WARRANTIES OR CONDITIONS OF ANY KIND, either express or implied.\n",
    "# See the License for the specific language governing permissions and\n",
    "# limitations under the License."
   ],
   "execution_count": 0,
   "outputs": []
  },
  {
   "metadata": {
    "id": "vasWnqRgy1H4",
    "colab_type": "code",
    "cellView": "form",
    "colab": {}
   },
   "cell_type": "code",
   "source": [
    "#@title MIT License\n",
    "#\n",
    "# Copyright (c) 2017 François Chollet\n",
    "#\n",
    "# Permission is hereby granted, free of charge, to any person obtaining a\n",
    "# copy of this software and associated documentation files (the \"Software\"),\n",
    "# to deal in the Software without restriction, including without limitation\n",
    "# the rights to use, copy, modify, merge, publish, distribute, sublicense,\n",
    "# and/or sell copies of the Software, and to permit persons to whom the\n",
    "# Software is furnished to do so, subject to the following conditions:\n",
    "#\n",
    "# The above copyright notice and this permission notice shall be included in\n",
    "# all copies or substantial portions of the Software.\n",
    "#\n",
    "# THE SOFTWARE IS PROVIDED \"AS IS\", WITHOUT WARRANTY OF ANY KIND, EXPRESS OR\n",
    "# IMPLIED, INCLUDING BUT NOT LIMITED TO THE WARRANTIES OF MERCHANTABILITY,\n",
    "# FITNESS FOR A PARTICULAR PURPOSE AND NONINFRINGEMENT. IN NO EVENT SHALL\n",
    "# THE AUTHORS OR COPYRIGHT HOLDERS BE LIABLE FOR ANY CLAIM, DAMAGES OR OTHER\n",
    "# LIABILITY, WHETHER IN AN ACTION OF CONTRACT, TORT OR OTHERWISE, ARISING\n",
    "# FROM, OUT OF OR IN CONNECTION WITH THE SOFTWARE OR THE USE OR OTHER\n",
    "# DEALINGS IN THE SOFTWARE."
   ],
   "execution_count": 0,
   "outputs": []
  },
  {
   "metadata": {
    "id": "jYysdyb-CaWM",
    "colab_type": "text"
   },
   "cell_type": "markdown",
   "source": [
    "# Train your first neural network: basic classification"
   ]
  },
  {
   "metadata": {
    "id": "S5Uhzt6vVIB2",
    "colab_type": "text"
   },
   "cell_type": "markdown",
   "source": [
    "Simplified from the [original notebook](https://github.com/tensorflow/docs/blob/master/site/en/tutorials/keras/basic_classification.ipynb)."
   ]
  },
  {
   "metadata": {
    "id": "FbVhjPpzn6BM",
    "colab_type": "text"
   },
   "cell_type": "markdown",
   "source": [
    "This guide trains a neural network model to classify images of clothing."
   ]
  },
  {
   "metadata": {
    "id": "dzLKpmZICaWN",
    "colab_type": "code",
    "colab": {}
   },
   "cell_type": "code",
   "source": [
    "from __future__ import absolute_import, division, print_function, unicode_literals\n",
    "\n",
    "# TensorFlow and tf.keras\n",
    "import tensorflow as tf\n",
    "from tensorflow import keras\n",
    "\n",
    "# Helper libraries\n",
    "import numpy as np\n",
    "import matplotlib.pyplot as plt\n",
    "\n",
    "print(tf.__version__)"
   ],
   "execution_count": 0,
   "outputs": []
  },
  {
   "metadata": {
    "id": "yR0EdgrLCaWR",
    "colab_type": "text"
   },
   "cell_type": "markdown",
   "source": [
    "## Import the Fashion MNIST dataset"
   ]
  },
  {
   "metadata": {
    "id": "DLdCchMdCaWQ",
    "colab_type": "text"
   },
   "cell_type": "markdown",
   "source": [
    "This guide uses the [Fashion MNIST](https://github.com/zalandoresearch/fashion-mnist) dataset which contains 70,000 grayscale images in 10 categories.\n",
    "The images show individual articles of clothing at low resolution (28 by 28 pixels).\n",
    "\n",
    "We will use 60,000 images to train the network and 10,000 images to evaluate how accurately\n",
    "the network learned to classify images."
   ]
  },
  {
   "metadata": {
    "id": "7MqDQO0KCaWS",
    "colab_type": "code",
    "colab": {}
   },
   "cell_type": "code",
   "source": [
    "fashion_mnist = keras.datasets.fashion_mnist\n",
    "\n",
    "(train_images, train_labels), (test_images, test_labels) = fashion_mnist.load_data()"
   ],
   "execution_count": 0,
   "outputs": []
  },
  {
   "metadata": {
    "id": "t9FDsUlxCaWW",
    "colab_type": "text"
   },
   "cell_type": "markdown",
   "source": [
    "Loading the dataset returns four NumPy arrays:\n",
    "\n",
    "* The `train_images` and `train_labels` arrays are the *training set*—the data the model uses to learn.\n",
    "* The model is tested against the *test set*, the `test_images`, and `test_labels` arrays.\n",
    "\n",
    "The images are 28x28 NumPy arrays, with pixel values ranging between 0 and 255.\n",
    "The *labels* are an array of integers, ranging from 0 to 9.\n",
    "These correspond to the *class* of clothing the image represents.\n",
    "\n",
    "\n",
    "Each image is mapped to a single label. Since the *class names* are not included with the dataset,\n",
    "store them here to use later when plotting the images."
   ]
  },
  {
   "metadata": {
    "id": "IjnLH5S2CaWx",
    "colab_type": "code",
    "colab": {}
   },
   "cell_type": "code",
   "source": [
    "class_names = ['T-shirt/top', 'Trouser', 'Pullover', 'Dress', 'Coat',\n",
    "               'Sandal', 'Shirt', 'Sneaker', 'Bag', 'Ankle boot']"
   ],
   "execution_count": 0,
   "outputs": []
  },
  {
   "metadata": {
    "id": "ES6uQoLKCaWr",
    "colab_type": "text"
   },
   "cell_type": "markdown",
   "source": [
    "## Preprocess the data\n",
    "\n",
    "The data must be preprocessed before training the network. If you inspect the first image in the training set, you will see that the pixel values fall in the range of 0 to 255:"
   ]
  },
  {
   "metadata": {
    "id": "m4VEw8Ud9Quh",
    "colab_type": "code",
    "colab": {}
   },
   "cell_type": "code",
   "source": [
    "plt.figure()\n",
    "plt.imshow(train_images[0])\n",
    "plt.colorbar()\n",
    "plt.grid(False)\n",
    "plt.show()"
   ],
   "execution_count": 0,
   "outputs": []
  },
  {
   "metadata": {
    "id": "Wz7l27Lz9S1P",
    "colab_type": "text"
   },
   "cell_type": "markdown",
   "source": [
    "We scale these values to a range of 0 to 1 before feeding to the neural network model. For this, we divide the values by 255. It's important that the *training set* and the *testing set* are preprocessed in the same way:"
   ]
  },
  {
   "metadata": {
    "id": "bW5WzIPlCaWv",
    "colab_type": "code",
    "colab": {}
   },
   "cell_type": "code",
   "source": [
    "train_images = train_images / 255.0\n",
    "\n",
    "test_images = test_images / 255.0"
   ],
   "execution_count": 0,
   "outputs": []
  },
  {
   "metadata": {
    "id": "Ee638AlnCaWz",
    "colab_type": "text"
   },
   "cell_type": "markdown",
   "source": [
    "Display the first 25 images from the *training set* and display the class name below each image. Verify that the data is in the correct format and we're ready to build and train the network."
   ]
  },
  {
   "metadata": {
    "id": "oZTImqg_CaW1",
    "colab_type": "code",
    "colab": {}
   },
   "cell_type": "code",
   "source": [
    "plt.figure(figsize=(10,10))\n",
    "for i in range(25):\n",
    "    plt.subplot(5,5,i+1)\n",
    "    plt.xticks([])\n",
    "    plt.yticks([])\n",
    "    plt.grid(False)\n",
    "    plt.imshow(train_images[i], cmap=plt.cm.binary)\n",
    "    plt.xlabel(class_names[train_labels[i]])\n",
    "plt.show()\n"
   ],
   "execution_count": 0,
   "outputs": []
  },
  {
   "metadata": {
    "id": "59veuiEZCaW4",
    "colab_type": "text"
   },
   "cell_type": "markdown",
   "source": [
    "## Build the model"
   ]
  },
  {
   "metadata": {
    "id": "9ODch-OFCaW4",
    "colab_type": "code",
    "colab": {}
   },
   "cell_type": "code",
   "source": [
    "model = keras.Sequential([\n",
    "    keras.layers.Flatten(input_shape=(28, 28)),\n",
    "    keras.layers.Dense(128, activation=tf.nn.relu),\n",
    "    keras.layers.Dense(10, activation=tf.nn.softmax)\n",
    "])\n"
   ],
   "execution_count": 0,
   "outputs": []
  },
  {
   "cell_type": "markdown",
   "source": [
    "### Compile the model\n"
   ],
   "metadata": {
    "collapsed": false
   }
  },
  {
   "metadata": {
    "id": "Lhan11blCaW7",
    "colab_type": "code",
    "colab": {}
   },
   "cell_type": "code",
   "source": [
    "model.compile(optimizer='adam',\n",
    "              loss='sparse_categorical_crossentropy',\n",
    "              metrics=['accuracy'])"
   ],
   "execution_count": 0,
   "outputs": []
  },
  {
   "metadata": {
    "id": "qKF6uW-BCaW-",
    "colab_type": "text"
   },
   "cell_type": "markdown",
   "source": [
    "## Train the model\n"
   ]
  },
  {
   "metadata": {
    "id": "xvwvpA64CaW_",
    "colab_type": "code",
    "colab": {}
   },
   "cell_type": "code",
   "source": [
    "model.fit(train_images, train_labels, epochs=5)"
   ],
   "execution_count": 0,
   "outputs": []
  },
  {
   "metadata": {
    "id": "W3ZVOhugCaXA",
    "colab_type": "text"
   },
   "cell_type": "markdown",
   "source": [
    "As the model trains, the loss and accuracy metrics are displayed. This model reaches an accuracy of about 0.88 (or 88%) on the training data."
   ]
  },
  {
   "metadata": {
    "id": "oEw4bZgGCaXB",
    "colab_type": "text"
   },
   "cell_type": "markdown",
   "source": [
    "## Evaluate accuracy\n",
    "\n",
    "Next, compare how the model performs on the test dataset:"
   ]
  },
  {
   "metadata": {
    "id": "VflXLEeECaXC",
    "colab_type": "code",
    "colab": {}
   },
   "cell_type": "code",
   "source": [
    "test_loss, test_acc = model.evaluate(test_images, test_labels)\n",
    "\n",
    "print('Test accuracy:', test_acc)"
   ],
   "execution_count": 0,
   "outputs": []
  },
  {
   "metadata": {
    "id": "yWfgsmVXCaXG",
    "colab_type": "text"
   },
   "cell_type": "markdown",
   "source": [
    "It turns out, the accuracy on the test dataset is a little less than the accuracy on the training dataset. This gap between training accuracy and test accuracy is an example of *overfitting*. Overfitting is when a machine learning model performs worse on new data than on their training data."
   ]
  },
  {
   "metadata": {
    "id": "xsoS7CPDCaXH",
    "colab_type": "text"
   },
   "cell_type": "markdown",
   "source": [
    "## Make predictions\n"
   ]
  },
  {
   "cell_type": "code",
   "execution_count": null,
   "outputs": [],
   "source": [
    "predictions = model.predict(test_images)\n"
   ],
   "metadata": {
    "collapsed": false,
    "pycharm": {
     "name": "#%%\n"
    }
   }
  },
  {
   "cell_type": "markdown",
   "source": [
    "We can graph this to look at the full set of 10 channels"
   ],
   "metadata": {
    "collapsed": false
   }
  },
  {
   "metadata": {
    "id": "DvYmmrpIy6Y1",
    "colab_type": "code",
    "colab": {}
   },
   "cell_type": "code",
   "source": [
    "def plot_image(i, predictions_array, true_label, img):\n",
    "  predictions_array, true_label, img = predictions_array[i], true_label[i], img[i]\n",
    "  plt.grid(False)\n",
    "  plt.xticks([])\n",
    "  plt.yticks([])\n",
    "  \n",
    "  plt.imshow(img, cmap=plt.cm.binary)\n",
    "  \n",
    "  predicted_label = np.argmax(predictions_array)\n",
    "  if predicted_label == true_label:\n",
    "    color = 'blue'\n",
    "  else:\n",
    "    color = 'red'\n",
    "  \n",
    "  plt.xlabel(\"{} {:2.0f}% ({})\".format(class_names[predicted_label],\n",
    "                                100*np.max(predictions_array),\n",
    "                                class_names[true_label]),\n",
    "                                color=color)\n",
    "\n",
    "def plot_value_array(i, predictions_array, true_label):\n",
    "  predictions_array, true_label = predictions_array[i], true_label[i]\n",
    "  plt.grid(False)\n",
    "  plt.xticks([])\n",
    "  plt.yticks([])\n",
    "  thisplot = plt.bar(range(10), predictions_array, color=\"#777777\")\n",
    "  plt.ylim([0, 1])\n",
    "  predicted_label = np.argmax(predictions_array)\n",
    "  \n",
    "  thisplot[predicted_label].set_color('red')\n",
    "  thisplot[true_label].set_color('blue')"
   ],
   "execution_count": 0,
   "outputs": []
  },
  {
   "metadata": {
    "id": "d4Ov9OFDMmOD",
    "colab_type": "text"
   },
   "cell_type": "markdown",
   "source": [
    "Let's look at the 0th image, predictions, and prediction array."
   ]
  },
  {
   "metadata": {
    "id": "HV5jw-5HwSmO",
    "colab_type": "code",
    "colab": {}
   },
   "cell_type": "code",
   "source": [
    "i = 0\n",
    "plt.figure(figsize=(6,3))\n",
    "plt.subplot(1,2,1)\n",
    "plot_image(i, predictions, test_labels, test_images)\n",
    "plt.subplot(1,2,2)\n",
    "plot_value_array(i, predictions,  test_labels)\n",
    "plt.show()"
   ],
   "execution_count": 0,
   "outputs": []
  },
  {
   "metadata": {
    "id": "Ko-uzOufSCSe",
    "colab_type": "code",
    "colab": {}
   },
   "cell_type": "code",
   "source": [
    "i = 12\n",
    "plt.figure(figsize=(6,3))\n",
    "plt.subplot(1,2,1)\n",
    "plot_image(i, predictions, test_labels, test_images)\n",
    "plt.subplot(1,2,2)\n",
    "plot_value_array(i, predictions,  test_labels)\n",
    "plt.show()"
   ],
   "execution_count": 0,
   "outputs": []
  },
  {
   "metadata": {
    "id": "kgdvGD52CaXR",
    "colab_type": "text"
   },
   "cell_type": "markdown",
   "source": [
    "Let's plot several images with their predictions. Correct prediction labels are blue and incorrect prediction labels are red. The number gives the percent (out of 100) for the predicted label. Note that it can be wrong even when very confident."
   ]
  },
  {
   "metadata": {
    "id": "hQlnbqaw2Qu_",
    "colab_type": "code",
    "colab": {},
    "pycharm": {
     "name": "#%%\n"
    }
   },
   "cell_type": "code",
   "source": [
    "# Plot the first X test images, their predicted label, and the true label\n",
    "# Color correct predictions in blue, incorrect predictions in red\n",
    "num_rows = 5\n",
    "num_cols = 3\n",
    "num_images = num_rows*num_cols\n",
    "plt.figure(figsize=(2*2*num_cols, 2*num_rows))\n",
    "for i in range(num_images):\n",
    "  plt.subplot(num_rows, 2*num_cols, 2*i+1)\n",
    "  plot_image(i, predictions, test_labels, test_images)\n",
    "  plt.subplot(num_rows, 2*num_cols, 2*i+2)\n",
    "  plot_value_array(i, predictions, test_labels)\n",
    "plt.show()\n"
   ],
   "execution_count": 0,
   "outputs": []
  }
 ]
}